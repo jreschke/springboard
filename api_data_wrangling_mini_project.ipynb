{
 "cells": [
  {
   "cell_type": "markdown",
   "metadata": {},
   "source": [
    "This exercise will require you to pull some data from the Qunadl API. Qaundl is currently the most widely used aggregator of financial market data."
   ]
  },
  {
   "cell_type": "markdown",
   "metadata": {},
   "source": [
    "As a first step, you will need to register a free account on the http://www.quandl.com website."
   ]
  },
  {
   "cell_type": "markdown",
   "metadata": {},
   "source": [
    "After you register, you will be provided with a unique API key, that you should store:"
   ]
  },
  {
   "cell_type": "code",
   "execution_count": 3,
   "metadata": {},
   "outputs": [],
   "source": [
    "# Store the API key as a string - according to PEP8, constants are always named in all upper case\n",
    "API_KEY = ''"
   ]
  },
  {
   "cell_type": "markdown",
   "metadata": {},
   "source": [
    "Qaundl has a large number of data sources, but, unfortunately, most of them require a Premium subscription. Still, there are also a good number of free datasets."
   ]
  },
  {
   "cell_type": "markdown",
   "metadata": {},
   "source": [
    "For this mini project, we will focus on equities data from the Frankfurt Stock Exhange (FSE), which is available for free. We'll try and analyze the stock prices of a company called Carl Zeiss Meditec, which manufactures tools for eye examinations, as well as medical lasers for laser eye surgery: https://www.zeiss.com/meditec/int/home.html. The company is listed under the stock ticker AFX_X."
   ]
  },
  {
   "cell_type": "markdown",
   "metadata": {},
   "source": [
    "You can find the detailed Quandl API instructions here: https://docs.quandl.com/docs/time-series"
   ]
  },
  {
   "cell_type": "markdown",
   "metadata": {},
   "source": [
    "While there is a dedicated Python package for connecting to the Quandl API, we would prefer that you use the *requests* package, which can be easily downloaded using *pip* or *conda*. You can find the documentation for the package here: http://docs.python-requests.org/en/master/ "
   ]
  },
  {
   "cell_type": "markdown",
   "metadata": {},
   "source": [
    "Finally, apart from the *requests* package, you are encouraged to not use any third party Python packages, such as *pandas*, and instead focus on what's available in the Python Standard Library (the *collections* module might come in handy: https://pymotw.com/3/collections/ ).\n",
    "Also, since you won't have access to DataFrames, you are encouraged to us Python's native data structures - preferably dictionaries, though some questions can also be answered using lists.\n",
    "You can read more on these data structures here: https://docs.python.org/3/tutorial/datastructures.html"
   ]
  },
  {
   "cell_type": "markdown",
   "metadata": {},
   "source": [
    "Keep in mind that the JSON responses you will be getting from the API map almost one-to-one to Python's dictionaries. Unfortunately, they can be very nested, so make sure you read up on indexing dictionaries in the documentation provided above."
   ]
  },
  {
   "cell_type": "code",
   "execution_count": 10,
   "metadata": {},
   "outputs": [],
   "source": [
    "# First, import the relevant modules\n",
    "import requests\n",
    "import json"
   ]
  },
  {
   "cell_type": "code",
   "execution_count": 9,
   "metadata": {
    "scrolled": false
   },
   "outputs": [
    {
     "name": "stdout",
     "output_type": "stream",
     "text": [
      "{\"dataset\":{\"id\":10095370,\"dataset_code\":\"AFX_X\",\"database_code\":\"FSE\",\"name\":\"Carl Zeiss Meditec (AFX_X)\",\"description\":\"Stock Prices for Carl Zeiss Meditec (2020-07-14) from the Frankfurt Stock Exchange.\\u003cbr\\u003e\\u003cbr\\u003eTrading System: Xetra\\u003cbr\\u003e\\u003cbr\\u003eISIN: DE0005313704\",\"refreshed_at\":\"2020-07-28T22:16:30.424Z\",\"newest_available_date\":\"2020-07-28\",\"oldest_available_date\":\"2000-06-07\",\"column_names\":[\"Date\",\"Open\",\"High\",\"Low\",\"Close\",\"Change\",\"Traded Volume\",\"Turnover\",\"Last Price of the Day\",\"Daily Traded Units\",\"Daily Turnover\"],\"frequency\":\"daily\",\"type\":\"Time Series\",\"premium\":false,\"limit\":null,\"transform\":null,\"column_index\":null,\"start_date\":\"2017-07-27\",\"end_date\":\"2017-07-27\",\"data\":[[\"2017-07-27\",45.16,45.45,45.15,45.25,null,50557.0,2290284.0,null,null,null]],\"collapse\":null,\"order\":null,\"database_id\":6129}}\n"
     ]
    }
   ],
   "source": [
    "# Now, call the Quandl API and pull out a small sample of the data (only one day) to get a glimpse\n",
    "# into the JSON structure that will be returned\n",
    "params = dict(key=API_KEY,start_date='2017-07-27',end_date='2017-07-27')\n",
    "url ='https://www.quandl.com/api/v3/datasets/FSE/AFX_X'\n",
    "res = requests.get(url,params)\n"
   ]
  },
  {
   "cell_type": "code",
   "execution_count": null,
   "metadata": {
    "collapsed": true
   },
   "outputs": [],
   "source": [
    "# Inspect the JSON structure of the object you created, and take note of how nested it is,\n",
    "# as well as the overall structure\n",
    "print(res.text)"
   ]
  },
  {
   "cell_type": "markdown",
   "metadata": {},
   "source": [
    "These are your tasks for this mini project:\n",
    "\n",
    "1. Collect data from the Franfurt Stock Exchange, for the ticker AFX_X, for the whole year 2017 (keep in mind that the date format is YYYY-MM-DD).\n",
    "2. Convert the returned JSON object into a Python dictionary.\n",
    "3. Calculate what the highest and lowest opening prices were for the stock in this period.\n",
    "4. What was the largest change in any one day (based on High and Low price)?\n",
    "5. What was the largest change between any two days (based on Closing Price)?\n",
    "6. What was the average daily trading volume during this year?\n",
    "7. (Optional) What was the median trading volume during this year. (Note: you may need to implement your own function for calculating the median.)"
   ]
  },
  {
   "cell_type": "code",
   "execution_count": 61,
   "metadata": {},
   "outputs": [
    {
     "name": "stdout",
     "output_type": "stream",
     "text": [
      "The lowest open is 34.0\n",
      "The highest open is 53.11\n",
      "The largest change was 2.56\n",
      "The average daily trading volume is 89299.23622047243\n",
      "126.5\n",
      "The median trading volume is 76443.0\n"
     ]
    }
   ],
   "source": [
    "#getting the data for 2017\n",
    "params = dict(key=API_KEY,start_date='2017-01-01',end_date='2017-12-31')\n",
    "url ='https://www.quandl.com/api/v3/datasets/FSE/AFX_X?start_date=2017-01-01&end_date=2017-12-31&api_key=tzyzx8z6ZWK_z8H8dEtK'\n",
    "res = requests.get(url,params)\n",
    "#converting json to dict\n",
    "dic_r = res.json()\n",
    "data = dic_r['dataset']['data']#getting the data\n",
    "list_len = len(data)#getting the number of sub lists\n",
    "\n",
    "#4. Determining Low/High Stock Prices\n",
    "open_index = dic_r['dataset']['column_names'].index('Open')\n",
    "open_dat = []\n",
    "for i in range(0,list_len):\n",
    "    if data[i][open_index] is not None:\n",
    "        open_dat.append(data[i][open_index])\n",
    "print(\"The lowest open is \"+str(sorted(open_dat, key = lambda x:float(x))[0]))\n",
    "print(\"The highest open is \"+str(sorted(open_dat, key = lambda x:float(x),reverse=True)[0]))\n",
    "\n",
    "#5. Determine change between two days on Closing Price\n",
    "params5 = dict(key=API_KEY,start_date='2017-01-01',end_date='2017-12-31',transform='diff')\n",
    "url5 ='https://www.quandl.com/api/v3/datasets/FSE/AFX_X?start_date=2017-01-01&end_date=2017-12-31&transform=diff'\n",
    "res5 = requests.get(url5,params5)\n",
    "dic_r5 =res5.json()\n",
    "close_index = dic_r5['dataset']['column_names'].index('Close')\n",
    "data5 = dic_r5['dataset']['data']\n",
    "close_dat = []\n",
    "list_len = len(data5)\n",
    "for i in range(0,list_len):\n",
    "    if data5[i][close_index] is not None:\n",
    "        close_dat.append(abs(data5[i][close_index]))\n",
    "print(\"The largest change was \"+str(sorted(close_dat, key = lambda x:float(x),reverse=True)[0]))\n",
    "\n",
    "#6. Determine the average daily trading values\n",
    "tr_index = dic_r['dataset']['column_names'].index('Traded Volume')\n",
    "tr_dat = []\n",
    "for i in range(0,list_len):\n",
    "    if data[i][tr_index] is not None:\n",
    "        tr_dat.append(data[i][tr_index])\n",
    "print(\"The average daily trading volume is \"+str(sum(tr_dat) / len(tr_dat)))\n",
    "\n",
    "#7. Determine the median daily trading values\n",
    "def med(dat):\n",
    "    dat = sorted(dat, key = lambda x:float(x))\n",
    "    med_spot = (len(dat)+1)/2 -1\n",
    "    if isinstance(med_spot, int)==False:\n",
    "        med1 = dat[int(med_spot-0.5)]\n",
    "        med2 = dat[int(med_spot+0.5)]\n",
    "        return (med1+med2)/2\n",
    "    else:\n",
    "        return dat[med_spot]\n",
    "print(med_spot)\n",
    "print(\"The median trading volume is \"+str(med(tr_dat)))"
   ]
  },
  {
   "cell_type": "code",
   "execution_count": null,
   "metadata": {},
   "outputs": [],
   "source": []
  }
 ],
 "metadata": {
  "kernelspec": {
   "display_name": "Python 3",
   "language": "python",
   "name": "python3"
  },
  "language_info": {
   "codemirror_mode": {
    "name": "ipython",
    "version": 3
   },
   "file_extension": ".py",
   "mimetype": "text/x-python",
   "name": "python",
   "nbconvert_exporter": "python",
   "pygments_lexer": "ipython3",
   "version": "3.7.6"
  }
 },
 "nbformat": 4,
 "nbformat_minor": 2
}
